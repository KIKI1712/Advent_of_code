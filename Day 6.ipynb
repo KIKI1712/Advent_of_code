{
 "cells": [
  {
   "cell_type": "code",
   "execution_count": 46,
   "metadata": {},
   "outputs": [],
   "source": [
    "time = [35,69,68,87]\n",
    "distance = [213,1168,1086,1248]"
   ]
  },
  {
   "cell_type": "code",
   "execution_count": 52,
   "metadata": {},
   "outputs": [],
   "source": [
    "winning_list = []\n",
    "loosing_list = []\n",
    "miles = -1\n",
    "for i in time:\n",
    "    cas = i\n",
    "    speed = 0\n",
    "    miles += 1\n",
    "    for x in range(0,i+1):\n",
    "        if cas * speed > int(distance[miles]):\n",
    "            winning_list.append(i)\n",
    "        else:\n",
    "            loosing_list.append(i)\n",
    "        speed += 1\n",
    "        cas -= 1\n",
    "\n",
    "way_to_win = []\n",
    "for i in set(winning_list):\n",
    "    way_to_win.append(winning_list.count(i))\n",
    "\n",
    "result = 1\n",
    "for x in way_to_win:\n",
    "    result = x*result"
   ]
  },
  {
   "cell_type": "code",
   "execution_count": 51,
   "metadata": {},
   "outputs": [],
   "source": [
    "time = [35696887]\n",
    "distance = [213116810861248]"
   ]
  }
 ],
 "metadata": {
  "kernelspec": {
   "display_name": "Python 3",
   "language": "python",
   "name": "python3"
  },
  "language_info": {
   "codemirror_mode": {
    "name": "ipython",
    "version": 3
   },
   "file_extension": ".py",
   "mimetype": "text/x-python",
   "name": "python",
   "nbconvert_exporter": "python",
   "pygments_lexer": "ipython3",
   "version": "3.11.5"
  }
 },
 "nbformat": 4,
 "nbformat_minor": 2
}
