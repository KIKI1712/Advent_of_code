{
 "cells": [
  {
   "cell_type": "code",
   "execution_count": 315,
   "metadata": {},
   "outputs": [],
   "source": [
    "import pandas as pd\n",
    "import re"
   ]
  },
  {
   "cell_type": "code",
   "execution_count": 383,
   "metadata": {},
   "outputs": [
    {
     "data": {
      "text/html": [
       "<div>\n",
       "<style scoped>\n",
       "    .dataframe tbody tr th:only-of-type {\n",
       "        vertical-align: middle;\n",
       "    }\n",
       "\n",
       "    .dataframe tbody tr th {\n",
       "        vertical-align: top;\n",
       "    }\n",
       "\n",
       "    .dataframe thead th {\n",
       "        text-align: right;\n",
       "    }\n",
       "</style>\n",
       "<table border=\"1\" class=\"dataframe\">\n",
       "  <thead>\n",
       "    <tr style=\"text-align: right;\">\n",
       "      <th></th>\n",
       "      <th>Game</th>\n",
       "      <th>Values</th>\n",
       "      <th>Validity</th>\n",
       "    </tr>\n",
       "  </thead>\n",
       "  <tbody>\n",
       "    <tr>\n",
       "      <th>0</th>\n",
       "      <td>Game 1:</td>\n",
       "      <td>6 green, 3 blue; 3 red, 1 green; 4 green, 3 r...</td>\n",
       "      <td>True</td>\n",
       "    </tr>\n",
       "    <tr>\n",
       "      <th>1</th>\n",
       "      <td>Game 2:</td>\n",
       "      <td>2 red, 7 green; 13 green, 2 blue, 4 red; 4 gr...</td>\n",
       "      <td>True</td>\n",
       "    </tr>\n",
       "    <tr>\n",
       "      <th>2</th>\n",
       "      <td>Game 3:</td>\n",
       "      <td>2 green, 3 blue, 9 red; 3 red, 2 green; 6 red...</td>\n",
       "      <td>True</td>\n",
       "    </tr>\n",
       "    <tr>\n",
       "      <th>3</th>\n",
       "      <td>Game 4:</td>\n",
       "      <td>9 red, 3 green; 3 green, 8 red, 6 blue; 12 bl...</td>\n",
       "      <td>True</td>\n",
       "    </tr>\n",
       "    <tr>\n",
       "      <th>4</th>\n",
       "      <td>Game 5:</td>\n",
       "      <td>1 blue, 2 green, 3 red; 16 red, 6 green; 6 gr...</td>\n",
       "      <td>True</td>\n",
       "    </tr>\n",
       "  </tbody>\n",
       "</table>\n",
       "</div>"
      ],
      "text/plain": [
       "      Game                                             Values  Validity\n",
       "0  Game 1:   6 green, 3 blue; 3 red, 1 green; 4 green, 3 r...      True\n",
       "1  Game 2:   2 red, 7 green; 13 green, 2 blue, 4 red; 4 gr...      True\n",
       "2  Game 3:   2 green, 3 blue, 9 red; 3 red, 2 green; 6 red...      True\n",
       "3  Game 4:   9 red, 3 green; 3 green, 8 red, 6 blue; 12 bl...      True\n",
       "4  Game 5:   1 blue, 2 green, 3 red; 16 red, 6 green; 6 gr...      True"
      ]
     },
     "execution_count": 383,
     "metadata": {},
     "output_type": "execute_result"
    }
   ],
   "source": [
    "Games = pd.read_csv(\"naloga2.csv\")\n",
    "Games[[\"Game\", \"Values\"]] = Games[\"Game\"].str.extract(r'^(Game \\d+:)(.*)$')\n",
    "Games[\"Validity\"] = True #assume that game is ok\n",
    "#Games.set_index('Game', inplace=True)\n",
    "Games.head()"
   ]
  },
  {
   "cell_type": "code",
   "execution_count": 375,
   "metadata": {},
   "outputs": [],
   "source": [
    "def find_good_game(data, col):\n",
    "    red_max = 12\n",
    "    green_max = 13\n",
    "    blue_max = 14\n",
    "\n",
    "    for index, row in data.iterrows():\n",
    "        if isinstance(row[col], str):\n",
    "            single_pull=row[col].split(\";\")\n",
    "            for i in single_pull:\n",
    "                trim_color = ([pair.strip() for pair in i.split(\",\")])\n",
    "                for pair in trim_color:\n",
    "                    count, color = pair.split()\n",
    "                    count = int(count)\n",
    "\n",
    "                    red_ph = 0\n",
    "                    blue_ph = 0\n",
    "                    green_ph = 0\n",
    "\n",
    "                    if color.lower() == \"red\":\n",
    "                        red_ph += count\n",
    "                    elif color.lower() == \"green\":\n",
    "                        green_ph += count\n",
    "                    elif color.lower() == \"blue\":\n",
    "                        blue_ph += count\n",
    "                    \n",
    "                    if red_ph > red_max or green_ph > green_max or blue_ph > blue_max:\n",
    "                        data.at[index, \"Validity\"] = False\n",
    "                    else:\n",
    "                        pass \n",
    "    return (\"done boss\")\n",
    "                "
   ]
  },
  {
   "cell_type": "code",
   "execution_count": 373,
   "metadata": {},
   "outputs": [
    {
     "data": {
      "text/plain": [
       "'done boss'"
      ]
     },
     "execution_count": 373,
     "metadata": {},
     "output_type": "execute_result"
    }
   ],
   "source": [
    "find_good_game(Games, \"Values\")"
   ]
  },
  {
   "cell_type": "code",
   "execution_count": 369,
   "metadata": {},
   "outputs": [
    {
     "data": {
      "text/plain": [
       "2683"
      ]
     },
     "execution_count": 369,
     "metadata": {},
     "output_type": "execute_result"
    }
   ],
   "source": [
    "indexes = Games.loc[Games['Validity'], 'Game'].str.extract(r'Game (\\d+):', expand=False)\n",
    "pd.to_numeric(indexes, errors='coerce').sum()"
   ]
  },
  {
   "cell_type": "code",
   "execution_count": 434,
   "metadata": {},
   "outputs": [],
   "source": [
    "def find_min_cubes(data, col):\n",
    "    max_counts_per_round = []\n",
    "    for index, row in data.iterrows():\n",
    "        if isinstance(row[col], str):\n",
    "            single_pull=row[col].split(\";\")\n",
    "            red_ph = 0\n",
    "            blue_ph = 0\n",
    "            green_ph = 0\n",
    "\n",
    "            for i in single_pull:\n",
    "                trim_color = ([pair.strip() for pair in i.split(\",\")])\n",
    "            \n",
    "                for pair in trim_color:\n",
    "                    count, color = pair.split()\n",
    "                    count = int(count)\n",
    "             \n",
    "                    if color.lower() == \"red\" and count > red_ph:\n",
    "                        red_ph = count\n",
    "                    elif color.lower() == \"green\" and count > green_ph:\n",
    "                        green_ph = count\n",
    "                    elif color.lower() == \"blue\" and count > blue_ph:\n",
    "                        blue_ph = count\n",
    "\n",
    "            # Append the counts for the current round\n",
    "            max_counts_per_round.append(red_ph*green_ph*blue_ph)\n",
    "\n",
    "    return sum(max_counts_per_round)\n",
    "                "
   ]
  },
  {
   "cell_type": "code",
   "execution_count": 435,
   "metadata": {},
   "outputs": [
    {
     "data": {
      "text/plain": [
       "49710"
      ]
     },
     "execution_count": 435,
     "metadata": {},
     "output_type": "execute_result"
    }
   ],
   "source": [
    "find_min_cubes(Games, \"Values\")"
   ]
  }
 ],
 "metadata": {
  "kernelspec": {
   "display_name": "Python 3",
   "language": "python",
   "name": "python3"
  },
  "language_info": {
   "codemirror_mode": {
    "name": "ipython",
    "version": 3
   },
   "file_extension": ".py",
   "mimetype": "text/x-python",
   "name": "python",
   "nbconvert_exporter": "python",
   "pygments_lexer": "ipython3",
   "version": "3.11.5"
  }
 },
 "nbformat": 4,
 "nbformat_minor": 2
}
