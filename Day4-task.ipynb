{
 "cells": [
  {
   "cell_type": "code",
   "execution_count": 2,
   "metadata": {},
   "outputs": [],
   "source": [
    "import pandas as pd\n",
    "import re"
   ]
  },
  {
   "cell_type": "code",
   "execution_count": 157,
   "metadata": {},
   "outputs": [
    {
     "data": {
      "text/html": [
       "<div>\n",
       "<style scoped>\n",
       "    .dataframe tbody tr th:only-of-type {\n",
       "        vertical-align: middle;\n",
       "    }\n",
       "\n",
       "    .dataframe tbody tr th {\n",
       "        vertical-align: top;\n",
       "    }\n",
       "\n",
       "    .dataframe thead th {\n",
       "        text-align: right;\n",
       "    }\n",
       "</style>\n",
       "<table border=\"1\" class=\"dataframe\">\n",
       "  <thead>\n",
       "    <tr style=\"text-align: right;\">\n",
       "      <th></th>\n",
       "      <th>Card</th>\n",
       "      <th>winning numbers</th>\n",
       "      <th>your numbers</th>\n",
       "    </tr>\n",
       "  </thead>\n",
       "  <tbody>\n",
       "    <tr>\n",
       "      <th>215</th>\n",
       "      <td>Card 216</td>\n",
       "      <td>13 15 69  5 57 20 77 45 98 12</td>\n",
       "      <td>9 42 49 96 46 23 84 77 74 31 75 15 47  6 83 ...</td>\n",
       "    </tr>\n",
       "    <tr>\n",
       "      <th>216</th>\n",
       "      <td>Card 217</td>\n",
       "      <td>33 92 13  9 53 41 74 86  8 50</td>\n",
       "      <td>78 76 73 17 99 39 48 98 89 62  7 11 10 43 49 ...</td>\n",
       "    </tr>\n",
       "    <tr>\n",
       "      <th>217</th>\n",
       "      <td>Card 218</td>\n",
       "      <td>91 50 80 42 23 76 63 81 29 39</td>\n",
       "      <td>57 26  2  3 21 43 52 34 70 91 30  8 12 24 99 ...</td>\n",
       "    </tr>\n",
       "    <tr>\n",
       "      <th>218</th>\n",
       "      <td>Card 219</td>\n",
       "      <td>63 29 45 94 49 57 24 40 71 99</td>\n",
       "      <td>86 37 23 13 67 19 36 69 22 48 20 10 44 59  1 ...</td>\n",
       "    </tr>\n",
       "    <tr>\n",
       "      <th>219</th>\n",
       "      <td>Card 220</td>\n",
       "      <td>7 42 25 84 54 11 88  6 55 73</td>\n",
       "      <td>86  5 82 70 49 80 21 36 16 34 17 77 44 74 61 ...</td>\n",
       "    </tr>\n",
       "  </tbody>\n",
       "</table>\n",
       "</div>"
      ],
      "text/plain": [
       "         Card                  winning numbers  \\\n",
       "215  Card 216   13 15 69  5 57 20 77 45 98 12    \n",
       "216  Card 217   33 92 13  9 53 41 74 86  8 50    \n",
       "217  Card 218   91 50 80 42 23 76 63 81 29 39    \n",
       "218  Card 219   63 29 45 94 49 57 24 40 71 99    \n",
       "219  Card 220    7 42 25 84 54 11 88  6 55 73    \n",
       "\n",
       "                                          your numbers  \n",
       "215    9 42 49 96 46 23 84 77 74 31 75 15 47  6 83 ...  \n",
       "216   78 76 73 17 99 39 48 98 89 62  7 11 10 43 49 ...  \n",
       "217   57 26  2  3 21 43 52 34 70 91 30  8 12 24 99 ...  \n",
       "218   86 37 23 13 67 19 36 69 22 48 20 10 44 59  1 ...  \n",
       "219   86  5 82 70 49 80 21 36 16 34 17 77 44 74 61 ...  "
      ]
     },
     "execution_count": 157,
     "metadata": {},
     "output_type": "execute_result"
    }
   ],
   "source": [
    "karte = pd.read_csv(\"naloga4.csv\")\n",
    "karte.tail()"
   ]
  },
  {
   "cell_type": "code",
   "execution_count": 146,
   "metadata": {},
   "outputs": [],
   "source": [
    "def calculate_points(cards_df):\n",
    "    total_points = 0\n",
    "\n",
    "    for index, row in cards_df.iterrows():\n",
    "        winning_numbers = set(row[\" winning numbers\"].split())\n",
    "        your_numbers = set(row[\" your numbers\"].split())\n",
    "\n",
    "        common_numbers = winning_numbers.intersection(your_numbers)\n",
    "        points = 2 ** (len(common_numbers) - 1) if len(common_numbers) > 0 else 0\n",
    "\n",
    "        total_points += points\n",
    "\n",
    "    return total_points"
   ]
  },
  {
   "cell_type": "code",
   "execution_count": 149,
   "metadata": {},
   "outputs": [
    {
     "data": {
      "text/plain": [
       "28538"
      ]
     },
     "execution_count": 149,
     "metadata": {},
     "output_type": "execute_result"
    }
   ],
   "source": [
    "calculate_points(karte)\n"
   ]
  },
  {
   "cell_type": "code",
   "execution_count": 162,
   "metadata": {},
   "outputs": [],
   "source": [
    "lista = []\n",
    "comn = []\n",
    "numbers = {i + 1: 1 for i in range(220)}\n",
    "for index, row in karte.iterrows():\n",
    "    winning_numbers = set(row[\" winning numbers\"].split())\n",
    "    your_numbers = set(row[\" your numbers\"].split())\n",
    "    common_numbers = winning_numbers.intersection(your_numbers)\n",
    "    comn.append(common_numbers)\n",
    "    boost = [2+index+i for i in range(0, len(common_numbers))]\n",
    "    lista.append(boost)\n",
    "\n",
    "\n",
    "index = 1\n",
    "for i in lista:\n",
    "    for x in i:\n",
    "        if x in numbers:\n",
    "            numbers[x] += numbers[index]\n",
    "            \n",
    "    index += 1\n",
    "\n"
   ]
  },
  {
   "cell_type": "code",
   "execution_count": 161,
   "metadata": {},
   "outputs": [
    {
     "data": {
      "text/plain": [
       "9425061"
      ]
     },
     "execution_count": 161,
     "metadata": {},
     "output_type": "execute_result"
    }
   ],
   "source": [
    "sum(numbers.values())"
   ]
  }
 ],
 "metadata": {
  "kernelspec": {
   "display_name": "Python 3",
   "language": "python",
   "name": "python3"
  },
  "language_info": {
   "codemirror_mode": {
    "name": "ipython",
    "version": 3
   },
   "file_extension": ".py",
   "mimetype": "text/x-python",
   "name": "python",
   "nbconvert_exporter": "python",
   "pygments_lexer": "ipython3",
   "version": "3.11.5"
  }
 },
 "nbformat": 4,
 "nbformat_minor": 2
}
