{
 "cells": [
  {
   "cell_type": "code",
   "execution_count": 8,
   "metadata": {},
   "outputs": [],
   "source": [
    "\n",
    "from sys import setrecursionlimit\n",
    "q = { 10: open(\"day10.txt\").read().strip() }\n",
    "\n",
    "grid = [[x for x in row] for row in q[10].strip().split('\\n')]\n"
   ]
  },
  {
   "cell_type": "code",
   "execution_count": 9,
   "metadata": {},
   "outputs": [],
   "source": [
    "pipe_map = {'|': [(0, -1), (0, 1)], '-': [(1, 0), (-1, 0)], \n",
    "            'L': [(0, -1), (1, 0)], 'J': [(0, -1), (-1, 0)], \n",
    "            '7': [(0, 1), (-1, 0)], 'F': [(0, 1), (1, 0)], \n",
    "            '.': [], 'S': [(0, -1), (0, 1), (1, 0), (-1, 0)]}"
   ]
  },
  {
   "cell_type": "code",
   "execution_count": 10,
   "metadata": {},
   "outputs": [
    {
     "name": "stdout",
     "output_type": "stream",
     "text": [
      "Day 10 Part 1: 7097\n"
     ]
    }
   ],
   "source": [
    "def find_valid_moves(grid, pos, pipe_map, prev_dir=None):\n",
    "    char = grid[pos[1]][pos[0]]\n",
    "    valid_directions = pipe_map[char]\n",
    "    valid_moves = []\n",
    "    for d in valid_directions:\n",
    "        new_pos = (pos[0] + d[0], pos[1] + d[1])\n",
    "        new_char = grid[new_pos[1]][new_pos[0]]\n",
    "        if 0 <= new_pos[0] < len(grid[0]) and 0 <= new_pos[1] < len(grid):\n",
    "            if d == (0, -1) and (0, 1) in pipe_map[new_char] and prev_dir != (0, 1):\n",
    "                valid_moves.append(new_pos)\n",
    "            if d == (0, 1) and (0, -1) in pipe_map[new_char] and prev_dir != (0, -1):\n",
    "                valid_moves.append(new_pos)\n",
    "            if d == (1, 0) and (-1, 0) in pipe_map[new_char] and prev_dir != (-1, 0):\n",
    "                valid_moves.append(new_pos)\n",
    "            if d == (-1, 0) and (1, 0) in pipe_map[new_char] and prev_dir != (1, 0):\n",
    "                valid_moves.append(new_pos)\n",
    "    return valid_moves\n",
    "\n",
    "def find_start_char(grid, pos, pipe_map):\n",
    "    valid_moves = find_valid_moves(grid, pos, pipe_map)\n",
    "    valid_directions = [(x[0]-pos[0], x[1]-pos[1]) for x in valid_moves]\n",
    "    for k, v in pipe_map.items():\n",
    "        if v == valid_directions:\n",
    "            return k\n",
    "        \n",
    "        \n",
    "\n",
    "def solve(grid, pos, pipe_map, visited, prev_dir=None):\n",
    "    move = find_valid_moves(grid, pos, pipe_map, prev_dir)[0]\n",
    "    if move == start_pos and len(visited) > 0:\n",
    "        return visited\n",
    "    visited.add(move)\n",
    "    return solve(grid, move, pipe_map, visited, (move[0]-pos[0], move[1]-pos[1]))\n",
    "\n",
    "start_pos = [(x, y) for y, row in enumerate(grid) for x, char in enumerate(row) if char == 'S'][0]\n",
    "grid[start_pos[1]][start_pos[0]] = find_start_char(grid, start_pos, pipe_map)\n",
    "\n",
    "setrecursionlimit(30000)\n",
    "print('Day 10 Part 1:',len(solve(grid, start_pos, pipe_map, { start_pos }))//2)"
   ]
  }
 ],
 "metadata": {
  "kernelspec": {
   "display_name": "Python 3",
   "language": "python",
   "name": "python3"
  },
  "language_info": {
   "codemirror_mode": {
    "name": "ipython",
    "version": 3
   },
   "file_extension": ".py",
   "mimetype": "text/x-python",
   "name": "python",
   "nbconvert_exporter": "python",
   "pygments_lexer": "ipython3",
   "version": "3.11.5"
  }
 },
 "nbformat": 4,
 "nbformat_minor": 2
}
