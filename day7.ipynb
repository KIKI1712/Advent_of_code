{
 "cells": [
  {
   "cell_type": "code",
   "execution_count": 136,
   "metadata": {},
   "outputs": [],
   "source": [
    "#pip install openpyxl\n",
    "import pandas as pd\n",
    "import re"
   ]
  },
  {
   "cell_type": "code",
   "execution_count": 255,
   "metadata": {},
   "outputs": [],
   "source": [
    "df = pd.read_excel(\"naloga6.xlsx\")\n",
    "df[\"hand\"] = df[\"hend\"]"
   ]
  },
  {
   "cell_type": "code",
   "execution_count": 359,
   "metadata": {},
   "outputs": [],
   "source": [
    "def sum_it_up(df):\n",
    "    levels = []\n",
    "    for i in df[\"hand\"]:\n",
    "        if len(set(i)) == 1:\n",
    "            levels.append(\"Five of a kind\")\n",
    "        elif len(set(i)) == 5:\n",
    "            levels.append(\"High card\")\n",
    "        elif len(set(i)) == 2:\n",
    "            for x in set(i):\n",
    "                if i.count(x) == 1 or i.count(x) == 4:\n",
    "                    levels.append(\"Four of a kind\")\n",
    "                    break\n",
    "                else:\n",
    "                    levels.append(\"Full house\")\n",
    "                    break\n",
    "        elif len(set(i)) == 3:\n",
    "            for x in set(i):\n",
    "                if i.count(x) == 3:\n",
    "                    levels.append(\"Three of a kind\")\n",
    "                elif i.count(x) == 2:\n",
    "                    levels.append(\"Two pair\")\n",
    "                    break\n",
    "                else: \n",
    "                    pass\n",
    "        elif len(set(i)) == 4:\n",
    "            levels.append(\"One pair\")\n",
    "    \n",
    "    df[\"level\"] = levels\n",
    "    rank = []\n",
    "    hand_types = {\n",
    "        'Five of a kind':7,\n",
    "        'Four of a kind':6,\n",
    "        'Full house':5,\n",
    "        'Three of a kind':4,\n",
    "        'Two pair':3,\n",
    "        'One pair':2,\n",
    "        'High card':1\n",
    "    }\n",
    "\n",
    "    for i in df[\"level\"]:\n",
    "        rank.append(hand_types[i])\n",
    "\n",
    "    df[\"Rank\"] = rank\n",
    "\n",
    "def convert_card_to_value(card):\n",
    "    letter_order = {'A': 14, 'K': 13, 'Q': 12, 'J': 11, 'T': 10, '9': 9, '8': 8, '7': 7, '6': 6, '5': 5, '4': 4, '3': 3, '2': 2}\n",
    "    if card in letter_order:\n",
    "        return letter_order[card]\n",
    "    elif card.isalpha():\n",
    "        return letter_order[card.upper()] \n",
    "    else:\n",
    "        return int(card)\n",
    "\n",
    "def custom_sort_key(hand):\n",
    "    return tuple(\n",
    "        (convert_card_to_value(card) for card in re.findall(r'\\S', hand))\n",
    "    )  "
   ]
  },
  {
   "cell_type": "code",
   "execution_count": 360,
   "metadata": {},
   "outputs": [],
   "source": [
    "sum_it_up(df)"
   ]
  },
  {
   "cell_type": "code",
   "execution_count": 259,
   "metadata": {},
   "outputs": [
    {
     "data": {
      "text/plain": [
       "253866470"
      ]
     },
     "execution_count": 259,
     "metadata": {},
     "output_type": "execute_result"
    }
   ],
   "source": [
    "# Calculate keys for each hand\n",
    "df['hand_key'] = df['hand'].apply(custom_sort_key)\n",
    "\n",
    "# Convert the 'hand_key' column to tuples for sorting\n",
    "df['hand_key_tuple'] = df['hand_key'].apply(tuple)\n",
    "\n",
    "df = df.sort_values(by=['Rank', 'hand_key_tuple'], kind='mergesort') \n",
    "\n",
    "df[\"final_rank\"] = range(1,len(df)+1)\n",
    "\n",
    "df[\"final\"] = df[\"final_rank\"]*df[\"bet\"]\n",
    "\n",
    "sum(df[\"final\"])"
   ]
  },
  {
   "cell_type": "markdown",
   "metadata": {},
   "source": [
    "SECOND PART"
   ]
  },
  {
   "cell_type": "code",
   "execution_count": 475,
   "metadata": {},
   "outputs": [],
   "source": [
    "#small example QA test\n",
    "hand = [\"32T3K\",\"T55J5\",\"KK677\",\"KTJJT\",\"QQQJA\"]#,\"AAAAA\",\"JAQAA\", \"3322T\", \"TT225\", \"TTT55\", \"QQQAJ\",\"123TJ\"]\n",
    "bet = [765,684,28,220,483]#,5,55,555,5555,22,222,11]\n",
    "df2 = pd.DataFrame({\"hand\":hand, \"bet\":bet})"
   ]
  },
  {
   "cell_type": "code",
   "execution_count": 480,
   "metadata": {},
   "outputs": [],
   "source": [
    "def sum_it_up2(df):\n",
    "    levels = []\n",
    "    for i in df[\"hand2\"]:\n",
    "        if len(set(i)) == 1:\n",
    "            levels.append(\"Five of a kind\")\n",
    "        elif len(set(i)) == 5:\n",
    "            levels.append(\"High card\")\n",
    "        elif len(set(i)) == 2:\n",
    "            for x in set(i):\n",
    "                if i.count(x) == 1 or i.count(x) == 4:\n",
    "                    levels.append(\"Four of a kind\")\n",
    "                    break\n",
    "                else:\n",
    "                    levels.append(\"Full house\")\n",
    "                    break\n",
    "        elif len(set(i)) == 3:\n",
    "            for x in set(i):\n",
    "                if i.count(x) == 3:\n",
    "                    levels.append(\"Three of a kind\")\n",
    "                elif i.count(x) == 2:\n",
    "                    levels.append(\"Two pair\")\n",
    "                    break\n",
    "                else: \n",
    "                    pass\n",
    "        elif len(set(i)) == 4:\n",
    "            levels.append(\"One pair\")\n",
    "    \n",
    "    df[\"level\"] = levels\n",
    "    rank = []\n",
    "    hand_types = {  #ovo moraš brojeve popraviti\n",
    "        'Five of a kind':7,\n",
    "        'Four of a kind':6,\n",
    "        'Full house':5,\n",
    "        'Three of a kind':4,\n",
    "        'Two pair':3,\n",
    "        'One pair':2,\n",
    "        'High card':1\n",
    "    }\n",
    "\n",
    "    for i in df[\"level\"]:\n",
    "        rank.append(hand_types[i])\n",
    "\n",
    "    df[\"Rank\"] = rank\n",
    "\n",
    "def convert_card_to_value2(card):\n",
    "    letter_order = {'A': 14, 'K': 13, 'Q': 12, 'J': 1, 'T': 10, '9': 9, '8': 8, '7': 7, '6': 6, '5': 5, '4': 4, '3': 3, '2': 2}\n",
    "    if card in letter_order:\n",
    "        return letter_order[card]\n",
    "    elif card.isalpha():\n",
    "        return letter_order[card.upper()] \n",
    "    else:\n",
    "        return int(card)\n",
    "\n",
    "def custom_sort_key(hand):\n",
    "    return tuple(\n",
    "        (convert_card_to_value2(card) for card in re.findall(r'\\S', hand))\n",
    "    )  "
   ]
  },
  {
   "cell_type": "code",
   "execution_count": 504,
   "metadata": {},
   "outputs": [],
   "source": [
    "\n",
    "df2 = pd.read_excel(\"naloga6.xlsx\")\n",
    "df2[\"hand\"] = df2[\"hend\"]\n",
    "\n",
    "def process_hand(hand):\n",
    "    if hand.count(\"J\") == 5:\n",
    "        hand = hand\n",
    "    else:\n",
    "        labels = 'AKQT98765432'\n",
    "        \n",
    "        label_counts = {label: hand.count(label) for label in labels}\n",
    "\n",
    "        if 'J' in hand:\n",
    "            max_label = max(labels, key=lambda label: label_counts.get(label, 0))\n",
    "\n",
    "            hand = hand.replace('J', max_label)\n",
    "    return hand\n",
    "\n",
    "# Apply the process_hand function to each row in the \"hand\" column\n",
    "df2['hand2'] = df2['hand'].apply(process_hand)\n"
   ]
  },
  {
   "cell_type": "code",
   "execution_count": 507,
   "metadata": {},
   "outputs": [
    {
     "data": {
      "text/plain": [
       "254494947"
      ]
     },
     "execution_count": 507,
     "metadata": {},
     "output_type": "execute_result"
    }
   ],
   "source": [
    "sum_it_up2(df2)\n",
    "\n",
    "df2['hand_key'] = df2['hand'].apply(custom_sort_key)\n",
    "\n",
    "df2 = df2.sort_values(by=['Rank', 'hand_key']) \n",
    "\n",
    "df2[\"final_rank\"] = range(1,len(df2)+1)\n",
    "\n",
    "df2[\"final\"] = df2[\"final_rank\"]*df2[\"bet\"]\n",
    "\n",
    "sum(df2[\"final\"]) "
   ]
  }
 ],
 "metadata": {
  "kernelspec": {
   "display_name": "Python 3",
   "language": "python",
   "name": "python3"
  },
  "language_info": {
   "codemirror_mode": {
    "name": "ipython",
    "version": 3
   },
   "file_extension": ".py",
   "mimetype": "text/x-python",
   "name": "python",
   "nbconvert_exporter": "python",
   "pygments_lexer": "ipython3",
   "version": "3.11.5"
  }
 },
 "nbformat": 4,
 "nbformat_minor": 2
}
